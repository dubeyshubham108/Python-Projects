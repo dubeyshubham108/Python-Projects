{
  "nbformat": 4,
  "nbformat_minor": 0,
  "metadata": {
    "colab": {
      "name": "Alarm Clock.ipynb",
      "provenance": [],
      "authorship_tag": "ABX9TyN+010LwGk0KKGQNWpuUrNk",
      "include_colab_link": true
    },
    "kernelspec": {
      "name": "python3",
      "display_name": "Python 3"
    },
    "language_info": {
      "name": "python"
    }
  },
  "cells": [
    {
      "cell_type": "markdown",
      "metadata": {
        "id": "view-in-github",
        "colab_type": "text"
      },
      "source": [
        "<a href=\"https://colab.research.google.com/github/dubeyshubham786/Python-Projects/blob/main/Alarm_Clock.ipynb\" target=\"_parent\"><img src=\"https://colab.research.google.com/assets/colab-badge.svg\" alt=\"Open In Colab\"/></a>"
      ]
    },
    {
      "cell_type": "markdown",
      "source": [
        "# **Alarm Clock using Python**"
      ],
      "metadata": {
        "id": "X-ZbKJluvXIM"
      }
    },
    {
      "cell_type": "markdown",
      "source": [
        "Before making the alarm clock first we will first have to install the mp3 files to play for the alarm clock."
      ],
      "metadata": {
        "id": "-nbWGJUQvrBD"
      }
    },
    {
      "cell_type": "code",
      "source": [
        ""
      ],
      "metadata": {
        "id": "0yuz2t5OwMSZ"
      },
      "execution_count": null,
      "outputs": []
    },
    {
      "cell_type": "code",
      "source": [
        ""
      ],
      "metadata": {
        "id": "GERsGvatvalw"
      },
      "execution_count": null,
      "outputs": []
    },
    {
      "cell_type": "code",
      "source": [
        ""
      ],
      "metadata": {
        "id": "KMaO48PPvV0g"
      },
      "execution_count": null,
      "outputs": []
    },
    {
      "cell_type": "code",
      "source": [
        ""
      ],
      "metadata": {
        "id": "6dXEDDlKvV3C"
      },
      "execution_count": null,
      "outputs": []
    },
    {
      "cell_type": "code",
      "source": [
        ""
      ],
      "metadata": {
        "id": "EN27lXqwvV48"
      },
      "execution_count": null,
      "outputs": []
    }
  ]
}
