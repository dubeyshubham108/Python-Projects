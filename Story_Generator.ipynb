{
  "nbformat": 4,
  "nbformat_minor": 0,
  "metadata": {
    "colab": {
      "name": "Story Generator.ipynb",
      "provenance": [],
      "authorship_tag": "ABX9TyOUvp2PiUDQqweKJXVP2SYI",
      "include_colab_link": true
    },
    "kernelspec": {
      "name": "python3",
      "display_name": "Python 3"
    },
    "language_info": {
      "name": "python"
    }
  },
  "cells": [
    {
      "cell_type": "markdown",
      "metadata": {
        "id": "view-in-github",
        "colab_type": "text"
      },
      "source": [
        "<a href=\"https://colab.research.google.com/github/dubeyshubham786/Python-Projects/blob/main/Story_Generator.ipynb\" target=\"_parent\"><img src=\"https://colab.research.google.com/assets/colab-badge.svg\" alt=\"Open In Colab\"/></a>"
      ]
    },
    {
      "cell_type": "markdown",
      "source": [
        "# **Story Generator in Python**\n",
        "With the help of random module we can also generate stories in python. For that we need to import some of the text in python and apply the random module."
      ],
      "metadata": {
        "id": "miINl_Jt1bwX"
      }
    },
    {
      "cell_type": "code",
      "source": [
        "# Importing random module in python\n",
        "import random\n",
        "\n",
        "# inserting the text in the form of list in python.\n",
        "when = ['A few years ago', 'Yesterday', 'Last night', 'A long time ago','On 20th Jan']\n",
        "who = ['a rabbit', 'an elephant', 'a mouse', 'a turtle','a cat']\n",
        "name = ['Ali', 'Miriam','daniel', 'Hoouk', 'Starwalker']\n",
        "residence = ['Barcelona','India', 'Germany', 'Venice', 'England']\n",
        "went = ['cinema', 'university','seminar', 'school', 'laundry']\n",
        "happened = ['made a lot of friends','Eats a burger', 'found a secret key', 'solved a mistery', 'wrote a book']\n",
        "\n",
        "# Now printing the print statement and alsoimplementing the function choice to it.\n",
        "print(random.choice(when) + ', ' + random.choice(who) + ' that lived in ' + random.choice(residence) + ', went to the ' + random.choice(went) + ' and ' + random.choice(happened))\n"
      ],
      "metadata": {
        "colab": {
          "base_uri": "https://localhost:8080/"
        },
        "id": "9H5enwfq1gSa",
        "outputId": "1899ad04-d27a-49ba-efd9-2cbbded751f7"
      },
      "execution_count": 3,
      "outputs": [
        {
          "output_type": "stream",
          "name": "stdout",
          "text": [
            "Yesterday, a turtle that lived in Barcelona, went to the seminar and wrote a book\n"
          ]
        }
      ]
    },
    {
      "cell_type": "code",
      "source": [
        ""
      ],
      "metadata": {
        "id": "TmTo_aJn1gVf"
      },
      "execution_count": 1,
      "outputs": []
    }
  ]
}