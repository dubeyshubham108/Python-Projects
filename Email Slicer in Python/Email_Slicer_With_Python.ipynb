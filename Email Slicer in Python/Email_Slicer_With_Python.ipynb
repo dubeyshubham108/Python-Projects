{
  "nbformat": 4,
  "nbformat_minor": 0,
  "metadata": {
    "colab": {
      "name": "Email Slicer With Python.ipynb",
      "provenance": [],
      "authorship_tag": "ABX9TyMQuCuBsAio6U7IdccZ4NKx",
      "include_colab_link": true
    },
    "kernelspec": {
      "name": "python3",
      "display_name": "Python 3"
    },
    "language_info": {
      "name": "python"
    }
  },
  "cells": [
    {
      "cell_type": "markdown",
      "metadata": {
        "id": "view-in-github",
        "colab_type": "text"
      },
      "source": [
        "<a href=\"https://colab.research.google.com/github/dubeyshubham786/Python-Projects/blob/main/Email_Slicer_With_Python.ipynb\" target=\"_parent\"><img src=\"https://colab.research.google.com/assets/colab-badge.svg\" alt=\"Open In Colab\"/></a>"
      ]
    },
    {
      "cell_type": "markdown",
      "source": [
        "# **Email Slicer in Python**\n",
        "The email slicer is used to seperate the domain name and username.  "
      ],
      "metadata": {
        "id": "mbd2r565j7la"
      }
    },
    {
      "cell_type": "code",
      "source": [
        "# First take the email input from the user in the form of string\n",
        "email = input(\"Enter Your Email \")\n",
        "\n",
        "# Now we need to seperate the username and domain name by @ using the split function\n",
        "l  = email.split('@')\n",
        "\n",
        "# Now the username will be the 0 index in the list and domain name will be the first index in the list\n",
        "username = l[0]\n",
        "domain_name = l[1]\n",
        "\n",
        "# Now printing the username and domain name\n",
        "print(f\"Username is {username}\")\n",
        "print(f\"Domain name is {domain_name}\")"
      ],
      "metadata": {
        "colab": {
          "base_uri": "https://localhost:8080/"
        },
        "id": "OZIKsfrMkszK",
        "outputId": "560376da-4b7f-4f38-f6d1-1a316722925f"
      },
      "execution_count": 18,
      "outputs": [
        {
          "output_type": "stream",
          "name": "stdout",
          "text": [
            "Enter Your Email abc@gmail.com\n",
            "Username is abc\n",
            "Domain name is gmail.com\n"
          ]
        }
      ]
    },
    {
      "cell_type": "markdown",
      "source": [
        "## We can also do this using the slicing operation in string."
      ],
      "metadata": {
        "id": "iihEpQ8gnKRd"
      }
    },
    {
      "cell_type": "code",
      "source": [
        "email = input(\"Enter Your Email: \").strip()\n",
        "username = email[:email.index(\"@\")]\n",
        "domain_name = email[email.index(\"@\")+1:]\n",
        "format_ = (f\"Your user name is '{username}' and your domain is '{domain_name}'\")\n",
        "print(format_)\n"
      ],
      "metadata": {
        "colab": {
          "base_uri": "https://localhost:8080/"
        },
        "id": "cS9DJMJQke4v",
        "outputId": "beba3680-2d18-462f-87c9-dfcd27884225"
      },
      "execution_count": 19,
      "outputs": [
        {
          "output_type": "stream",
          "name": "stdout",
          "text": [
            "Enter Your Email: abc@yahoo.com\n",
            "Your user name is 'abc' and your domain is 'yahoo.com'\n"
          ]
        }
      ]
    },
    {
      "cell_type": "code",
      "source": [
        ""
      ],
      "metadata": {
        "id": "d7PsN0dPkfKK"
      },
      "execution_count": null,
      "outputs": []
    }
  ]
}
