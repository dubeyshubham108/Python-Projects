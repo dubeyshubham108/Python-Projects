{
  "nbformat": 4,
  "nbformat_minor": 0,
  "metadata": {
    "colab": {
      "name": "Stone Paper Scossor.ipynb",
      "provenance": [],
      "collapsed_sections": [],
      "authorship_tag": "ABX9TyM2+tCpGHYRsdiqSV0ageEv",
      "include_colab_link": true
    },
    "kernelspec": {
      "name": "python3",
      "display_name": "Python 3"
    },
    "language_info": {
      "name": "python"
    }
  },
  "cells": [
    {
      "cell_type": "markdown",
      "metadata": {
        "id": "view-in-github",
        "colab_type": "text"
      },
      "source": [
        "<a href=\"https://colab.research.google.com/github/dubeyshubham786/Python-Projects/blob/main/Stone_Paper_Scossor.ipynb\" target=\"_parent\"><img src=\"https://colab.research.google.com/assets/colab-badge.svg\" alt=\"Open In Colab\"/></a>"
      ]
    },
    {
      "cell_type": "markdown",
      "source": [
        "## **Stone Paper and Scissor**"
      ],
      "metadata": {
        "id": "FnRn7DaO286P"
      }
    },
    {
      "cell_type": "code",
      "source": [
        "import random \n",
        "print(\"Ready to play the game of Stone Paper Scissor\")\n",
        "print(\"Chose any one of following\\n\")\n",
        "# print(\"Any one of the following values\\n\")\n",
        "\n",
        "print(\"\\nHow many matches do you want to play\")\n",
        "n = int(input())\n",
        "\n",
        "print(\"Choose any one of the following\")\n",
        "\n",
        "l = [\"Stone: St\", \"Paper: P\", \"Scissor: Sc\"]\n",
        "lst = ['St', 'P', 'Sc']\n",
        "\n",
        "for i in l:\n",
        "  print(i)\n",
        "\n",
        "computer_score = 0\n",
        "user_score = 0\n",
        "match_ties = 0\n",
        "\n",
        "\n",
        "for m in range(n):\n",
        "  user_input = input()\n",
        "  if user_input == 'St':\n",
        "    computer_input = random.choice(lst)\n",
        "    if computer_input == user_input:\n",
        "      print(\"Game is Tie\")\n",
        "      match_ties += 1\n",
        "      computer_score = 0\n",
        "      user_score = 0\n",
        "    elif computer_input == 'P':\n",
        "        print(\"You lose! Try again\")        \n",
        "        computer_score += 1\n",
        "    else:\n",
        "        print(\"You Won! Try again\")\n",
        "        user_score += 1\n",
        "\n",
        "  elif user_input == 'P':\n",
        "    computer_input = random.choice(lst)\n",
        "    if computer_input == user_input:\n",
        "        print(\"Game is Tie\")\n",
        "        match_ties += 1\n",
        "    elif computer_input == 'St':\n",
        "        print(\"You Won! Try again\")\n",
        "        user_score += 1\n",
        "    else:\n",
        "        print(\"You lose! Try again\")\n",
        "        computer_score += 1\n",
        "\n",
        "  elif user_input == 'Sc':\n",
        "    computer_input = random.choice(lst)\n",
        "    if computer_input == user_input:\n",
        "        print(\"Game is Tie\")\n",
        "        match_ties += 1\n",
        "    elif computer_input == 'P':\n",
        "        print(\"You Won! Try again\")\n",
        "        user_score += 1\n",
        "    else:\n",
        "        print(\"You lose! Try again\")\n",
        "        computer_score += 1\n",
        "\n",
        "  else:\n",
        "    print(\"Please provide valid input\")\n",
        "\n",
        "if computer_score > user_score:\n",
        "  print(\"\\n\\nYOU LOSS THE GAME\")\n",
        "elif computer_score < user_score:\n",
        "  print(\"\\n\\nYOU WON THE GAME\")\n",
        "else:\n",
        "  print(\"\\n\\nGAME IS DRAW\")\n",
        "\n",
        "print(f\"\\nOut of {n} Match\") \n",
        "print(f\"YOU WON {user_score}\")\n",
        "print(f\"CPU WON {computer_score}\")\n",
        "print(f\"MATCHE TIE {match_ties}\")"
      ],
      "metadata": {
        "colab": {
          "base_uri": "https://localhost:8080/"
        },
        "id": "tABO1Bbz27Zr",
        "outputId": "1d1967c1-b42a-4c15-dde9-b04befda34e5"
      },
      "execution_count": 6,
      "outputs": [
        {
          "output_type": "stream",
          "name": "stdout",
          "text": [
            "Ready to play the game of Stone Paper Scissor\n",
            "Chose any one of following\n",
            "\n",
            "\n",
            "How many matches do you want to play\n",
            "3\n",
            "Choose any one of the following\n",
            "Stone: St\n",
            "Paper: P\n",
            "Scissor: Sc\n",
            "P\n",
            "Game is Tie\n",
            "P\n",
            "You Won! Try again\n",
            "P\n",
            "You Won! Try again\n",
            "\n",
            "\n",
            "YOU WON THE GAME\n",
            "\n",
            "Out of 3 Match\n",
            "YOU WON 2\n",
            "CPU WON 0\n",
            "MATCHE TIE 1\n"
          ]
        }
      ]
    },
    {
      "cell_type": "code",
      "source": [
        ""
      ],
      "metadata": {
        "id": "315mHUtFCAo4"
      },
      "execution_count": null,
      "outputs": []
    }
  ]
}
