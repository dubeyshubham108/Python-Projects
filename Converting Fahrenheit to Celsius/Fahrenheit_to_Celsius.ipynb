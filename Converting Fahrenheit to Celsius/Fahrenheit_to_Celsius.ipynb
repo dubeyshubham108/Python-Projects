{
  "nbformat": 4,
  "nbformat_minor": 0,
  "metadata": {
    "colab": {
      "name": "Fahrenheit to Celsius.ipynb",
      "provenance": [],
      "authorship_tag": "ABX9TyPSKNSgcCMvHCCWUUKRGMBU",
      "include_colab_link": true
    },
    "kernelspec": {
      "name": "python3",
      "display_name": "Python 3"
    },
    "language_info": {
      "name": "python"
    }
  },
  "cells": [
    {
      "cell_type": "markdown",
      "metadata": {
        "id": "view-in-github",
        "colab_type": "text"
      },
      "source": [
        "<a href=\"https://colab.research.google.com/github/dubeyshubham786/Python-Projects/blob/main/Fahrenheit_to_Celsius.ipynb\" target=\"_parent\"><img src=\"https://colab.research.google.com/assets/colab-badge.svg\" alt=\"Open In Colab\"/></a>"
      ]
    },
    {
      "cell_type": "markdown",
      "source": [
        "# ***`Convert Fahrenheit to Celsius with Python`***"
      ],
      "metadata": {
        "id": "fKLET04aEfLj"
      }
    },
    {
      "cell_type": "code",
      "source": [
        "# Here we will get the input variable in Fahrenheit\n",
        "# By creating a simple function we can convert it into Celsius\n",
        "\n",
        "def convert(s):\n",
        "  f = float(s)\n",
        "  c = (f-32) * 5/9\n",
        "  return c\n",
        "\n",
        "print(convert(100))"
      ],
      "metadata": {
        "colab": {
          "base_uri": "https://localhost:8080/"
        },
        "id": "lmW9nLZMEijY",
        "outputId": "4eaadb29-502c-418e-a6c2-cce874005379"
      },
      "execution_count": 3,
      "outputs": [
        {
          "output_type": "stream",
          "name": "stdout",
          "text": [
            "37.77777777777778\n"
          ]
        }
      ]
    },
    {
      "cell_type": "code",
      "source": [
        "# 100 degree celcius is equivalent to 37.77 Fahrenheit."
      ],
      "metadata": {
        "id": "azjOV2C0EiqW"
      },
      "execution_count": null,
      "outputs": []
    },
    {
      "cell_type": "code",
      "source": [
        ""
      ],
      "metadata": {
        "id": "Xefu_---EitT"
      },
      "execution_count": null,
      "outputs": []
    }
  ]
}
