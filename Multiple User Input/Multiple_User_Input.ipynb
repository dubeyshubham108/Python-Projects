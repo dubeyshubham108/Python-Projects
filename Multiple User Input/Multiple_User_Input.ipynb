{
  "nbformat": 4,
  "nbformat_minor": 0,
  "metadata": {
    "colab": {
      "name": "Multiple User Input.ipynb",
      "provenance": [],
      "authorship_tag": "ABX9TyPFlK3GML1CFjY0+/2mvrBK",
      "include_colab_link": true
    },
    "kernelspec": {
      "name": "python3",
      "display_name": "Python 3"
    },
    "language_info": {
      "name": "python"
    }
  },
  "cells": [
    {
      "cell_type": "markdown",
      "metadata": {
        "id": "view-in-github",
        "colab_type": "text"
      },
      "source": [
        "<a href=\"https://colab.research.google.com/github/dubeyshubham786/Python-Projects/blob/main/Multiple_User_Input.ipynb\" target=\"_parent\"><img src=\"https://colab.research.google.com/assets/colab-badge.svg\" alt=\"Open In Colab\"/></a>"
      ]
    },
    {
      "cell_type": "markdown",
      "source": [
        "# **Taking Multiple User Input From User**\n",
        "\n",
        "## Here we will use the while loop for taking multiple user input. As we know that while loop keeps on executing until and unless it does not meet its condition. So we will give the condition as \"Stop\" string for while loop to stop the string."
      ],
      "metadata": {
        "id": "kdpXgobl4_Fk"
      }
    },
    {
      "cell_type": "code",
      "source": [
        "# Implementing the while loop\n",
        "\n",
        "while True:\n",
        "    reply = input(\"Enter Text: \")\n",
        "    if reply == 'stop':\n",
        "      break\n",
        "      print(reply)"
      ],
      "metadata": {
        "colab": {
          "base_uri": "https://localhost:8080/"
        },
        "id": "ke8qfbWn5Drg",
        "outputId": "01a90147-b9cc-4c3c-b544-f0edc2546bd7"
      },
      "execution_count": 1,
      "outputs": [
        {
          "name": "stdout",
          "output_type": "stream",
          "text": [
            "Enter Text: H\n",
            "Enter Text: E\n",
            "Enter Text: world\n",
            "Enter Text: stop\n"
          ]
        }
      ]
    },
    {
      "cell_type": "code",
      "source": [
        ""
      ],
      "metadata": {
        "id": "CaWwUL2F5DwJ"
      },
      "execution_count": null,
      "outputs": []
    },
    {
      "cell_type": "code",
      "source": [
        ""
      ],
      "metadata": {
        "id": "CZuyK6ns5D0i"
      },
      "execution_count": null,
      "outputs": []
    },
    {
      "cell_type": "code",
      "source": [
        ""
      ],
      "metadata": {
        "id": "DjiBGuae5D49"
      },
      "execution_count": null,
      "outputs": []
    }
  ]
}
