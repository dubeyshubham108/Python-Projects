{
  "nbformat": 4,
  "nbformat_minor": 0,
  "metadata": {
    "colab": {
      "name": "Password Generator.ipynb",
      "provenance": [],
      "authorship_tag": "ABX9TyMjFzMUdjEvhE9AsMKMbKZ4",
      "include_colab_link": true
    },
    "kernelspec": {
      "name": "python3",
      "display_name": "Python 3"
    },
    "language_info": {
      "name": "python"
    }
  },
  "cells": [
    {
      "cell_type": "markdown",
      "metadata": {
        "id": "view-in-github",
        "colab_type": "text"
      },
      "source": [
        "<a href=\"https://colab.research.google.com/github/dubeyshubham786/Python-Projects/blob/main/Password_Generator.ipynb\" target=\"_parent\"><img src=\"https://colab.research.google.com/assets/colab-badge.svg\" alt=\"Open In Colab\"/></a>"
      ]
    },
    {
      "cell_type": "code",
      "source": [
        "# Importing the random module\n",
        "import random\n",
        "\n",
        "# Now giving all the characters in the string format\n",
        "# The password that we want will come from this string \n",
        "password = \"ABCDEFGHIKLMNOPQRSTUVWXYZabcdefghijklmnopqrstuvwxyz0123456789!@#$%^&*()_+-\"\n",
        "\n",
        "# Now let's give the length of input that our password wants\n",
        "length_password = int(input(\"Enter the length of password that you want to generate: \"))\n",
        "\n",
        "# NOw take the random values from the password string to generate a random password\n",
        "a = \"\".join(random.sample(password, length_password))\n",
        "\n",
        "# Print the final generated password\n",
        "print(f\"Your password is: {a}\")"
      ],
      "metadata": {
        "colab": {
          "base_uri": "https://localhost:8080/"
        },
        "id": "o0b5QGAWaSrZ",
        "outputId": "ccfe9ce4-cfa3-44b4-d9d2-786f80786608"
      },
      "execution_count": 5,
      "outputs": [
        {
          "output_type": "stream",
          "name": "stdout",
          "text": [
            "Enter the length of password that you want to generate: 8\n",
            "Your password is: @%L3T(8E\n"
          ]
        }
      ]
    },
    {
      "cell_type": "code",
      "source": [
        ""
      ],
      "metadata": {
        "id": "8-zAcrjsdd7w"
      },
      "execution_count": null,
      "outputs": []
    }
  ]
}