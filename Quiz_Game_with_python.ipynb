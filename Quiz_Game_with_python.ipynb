{
  "nbformat": 4,
  "nbformat_minor": 0,
  "metadata": {
    "colab": {
      "name": "Quiz Game with python.ipynb",
      "provenance": [],
      "authorship_tag": "ABX9TyNsiSrhFoDwz3Yn8LhVUfxD",
      "include_colab_link": true
    },
    "kernelspec": {
      "name": "python3",
      "display_name": "Python 3"
    },
    "language_info": {
      "name": "python"
    }
  },
  "cells": [
    {
      "cell_type": "markdown",
      "metadata": {
        "id": "view-in-github",
        "colab_type": "text"
      },
      "source": [
        "<a href=\"https://colab.research.google.com/github/dubeyshubham786/Python-Projects/blob/main/Quiz_Game_with_python.ipynb\" target=\"_parent\"><img src=\"https://colab.research.google.com/assets/colab-badge.svg\" alt=\"Open In Colab\"/></a>"
      ]
    },
    {
      "cell_type": "markdown",
      "source": [
        "# ***Quiz Game With Python***\n",
        "\n",
        "Here, we are creating a quiz game with the help of function in python. A player gets 3 chance to give the answer correctly.\n",
        "\n"
      ],
      "metadata": {
        "id": "zNz7VJRiNwGK"
      }
    },
    {
      "cell_type": "code",
      "source": [
        "# Defining the function with two input parameters guess and number\n",
        "\n",
        "def check_guess(guess, answer):\n",
        "  # Giving a global variable score to keep the score of the correct answer.\n",
        "    global score\n",
        "    still_guessing = True\n",
        "    attempt = 0\n",
        "\n",
        "    # Applying the while loop for repetation of the questions and keeping track of the attempts.\n",
        "    while still_guessing and attempt < 3:\n",
        "        if guess.lower() == answer.lower():\n",
        "            print(\"Correct Answer\")\n",
        "            score = score + 1\n",
        "            still_guessing = False\n",
        "        else:\n",
        "            if attempt < 2:\n",
        "                guess = input(\"Sorry Wrong Answer, try again \")\n",
        "            attempt = attempt + 1\n",
        "    if attempt == 3:\n",
        "        print(\"The Correct answer is \",answer )\n",
        "\n",
        "    \n",
        "score = 0\n",
        "print(\"Please give the correct answer to the following question.\")\n",
        "guess1 = input(\"What is the capital of India? \")\n",
        "check_guess(guess1, \"New Delhi\")\n",
        "guess2 = input(\"When did India got freedom? \")\n",
        "check_guess(guess2, str(1947))\n",
        "guess3 = input(\"Three sons of India? \")\n",
        "check_guess(guess3, \"Pakistan, Bangladesh, Afghanistan\")\n",
        "print(\"Your Score is \"+ str(score))\n"
      ],
      "metadata": {
        "colab": {
          "base_uri": "https://localhost:8080/"
        },
        "id": "d7kM3SfVN4Pw",
        "outputId": "a392da0c-f018-4d5d-8637-29bc8d47127a"
      },
      "execution_count": 4,
      "outputs": [
        {
          "output_type": "stream",
          "name": "stdout",
          "text": [
            "Please give the correct answer to the following question.\n",
            "What is the capital of India? fjsf\n",
            "Sorry Wrong Answer, try again dfds\n",
            "Sorry Wrong Answer, try again fs\n",
            "The Correct answer is  New Delhi\n",
            "When did India got freedom? ffd\n",
            "Sorry Wrong Answer, try again fsf\n",
            "Sorry Wrong Answer, try again ee\n",
            "The Correct answer is  1947\n",
            "Three sons of India? fd\n",
            "Sorry Wrong Answer, try again b\n",
            "Sorry Wrong Answer, try again b\n",
            "The Correct answer is  Pakistan, Bangladesh, Afghanistan\n",
            "Your Score is 0\n"
          ]
        }
      ]
    },
    {
      "cell_type": "code",
      "source": [
        ""
      ],
      "metadata": {
        "id": "kpViQfwZN4bC"
      },
      "execution_count": null,
      "outputs": []
    }
  ]
}