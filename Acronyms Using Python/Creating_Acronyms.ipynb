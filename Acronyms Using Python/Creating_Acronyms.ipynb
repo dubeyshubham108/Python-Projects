{
  "nbformat": 4,
  "nbformat_minor": 0,
  "metadata": {
    "colab": {
      "name": "Creating Acronyms.ipynb",
      "provenance": [],
      "authorship_tag": "ABX9TyPu0d/cznokw8mBOIRjv2zb",
      "include_colab_link": true
    },
    "kernelspec": {
      "name": "python3",
      "display_name": "Python 3"
    },
    "language_info": {
      "name": "python"
    }
  },
  "cells": [
    {
      "cell_type": "markdown",
      "metadata": {
        "id": "view-in-github",
        "colab_type": "text"
      },
      "source": [
        "<a href=\"https://colab.research.google.com/github/dubeyshubham786/Python-Projects/blob/main/Creating_Acronyms.ipynb\" target=\"_parent\"><img src=\"https://colab.research.google.com/assets/colab-badge.svg\" alt=\"Open In Colab\"/></a>"
      ]
    },
    {
      "cell_type": "markdown",
      "source": [
        "# Creating Acronyms using the Python\n",
        "Acronyms is the short form of the word or phrase. \n",
        "For Example AI means Artificial Intelligence, similarly ML means Machine Learning and so on."
      ],
      "metadata": {
        "id": "sGqzLPVUsZI1"
      }
    },
    {
      "cell_type": "code",
      "source": [
        "# Taking an input from the user\n",
        "user_input = str(input(\"Enter a phrase or standard terms:\"))\n",
        "\n",
        "# Now splitting that input with split command\n",
        "text = user_input.split()\n",
        "\n",
        "# Creating a string for the output of the acronyms\n",
        "a = \"\"\n",
        "\n",
        "# Using the for loop and upper case function for the output\n",
        "for i in text:\n",
        "  a = a + str(i[0]).upper()\n",
        "\n",
        "# printing the output\n",
        "print(a)\n"
      ],
      "metadata": {
        "colab": {
          "base_uri": "https://localhost:8080/"
        },
        "id": "ai1RMiErsXtv",
        "outputId": "ff7ff8c8-2e20-4ec3-9c4f-1682bb740a54"
      },
      "execution_count": 2,
      "outputs": [
        {
          "output_type": "stream",
          "name": "stdout",
          "text": [
            "Enter a phrase or standard terms:Atrificial intelligence\n",
            "AI\n"
          ]
        }
      ]
    },
    {
      "cell_type": "code",
      "source": [
        ""
      ],
      "metadata": {
        "id": "dEgvso3TuWWm"
      },
      "execution_count": null,
      "outputs": []
    },
    {
      "cell_type": "code",
      "source": [
        ""
      ],
      "metadata": {
        "id": "vxz6p6XJuVyZ"
      },
      "execution_count": null,
      "outputs": []
    }
  ]
}
