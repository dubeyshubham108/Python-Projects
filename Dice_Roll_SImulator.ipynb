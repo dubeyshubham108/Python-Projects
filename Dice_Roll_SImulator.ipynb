{
  "nbformat": 4,
  "nbformat_minor": 0,
  "metadata": {
    "colab": {
      "name": "Dice Roll SImulator.ipynb",
      "provenance": [],
      "authorship_tag": "ABX9TyOdSBrpuLyjsE4hsethfV7k",
      "include_colab_link": true
    },
    "kernelspec": {
      "name": "python3",
      "display_name": "Python 3"
    },
    "language_info": {
      "name": "python"
    }
  },
  "cells": [
    {
      "cell_type": "markdown",
      "metadata": {
        "id": "view-in-github",
        "colab_type": "text"
      },
      "source": [
        "<a href=\"https://colab.research.google.com/github/dubeyshubham786/Python-Projects/blob/main/Dice_Roll_SImulator.ipynb\" target=\"_parent\"><img src=\"https://colab.research.google.com/assets/colab-badge.svg\" alt=\"Open In Colab\"/></a>"
      ]
    },
    {
      "cell_type": "markdown",
      "source": [
        "# ***Dice Roll Simulator***"
      ],
      "metadata": {
        "id": "VXhfbI43A1hk"
      }
    },
    {
      "cell_type": "markdown",
      "source": [
        "A Dice contains a number from 1 to 6. So to create the Dice Simulator we need to use random module in python.\n"
      ],
      "metadata": {
        "id": "Ujx8kJiABE_d"
      }
    },
    {
      "cell_type": "code",
      "source": [
        "# Importing module in Python\n",
        "import random"
      ],
      "metadata": {
        "id": "2A3hhTFxA6Zu"
      },
      "execution_count": 19,
      "outputs": []
    },
    {
      "cell_type": "code",
      "source": [
        "# Assigning minimum and maximum value \n",
        "min_value = 1\n",
        "max_value = 6"
      ],
      "metadata": {
        "id": "seVfyIGbA64t"
      },
      "execution_count": 20,
      "outputs": []
    },
    {
      "cell_type": "code",
      "source": [
        "roll_again = 'yes'"
      ],
      "metadata": {
        "id": "N5HikrmrBwHs"
      },
      "execution_count": 21,
      "outputs": []
    },
    {
      "cell_type": "code",
      "source": [
        "# Using the randint function of the random module to create the dice\n",
        "\n",
        "while roll_again == 'yes' or roll_again == 'y' or roll_again==\"Yes\" or roll_again==\"Yes\":\n",
        "  print(\"Rolling the Dice\")\n",
        "  print(\"The values are:\")\n",
        "\n",
        "  # Generating and printing the first random integer\n",
        "  # Using the randint function\n",
        "  print(random.randint(min_value, max_value))\n",
        "\n",
        "  # Asking user whether he wants to roll the dice again\n",
        "  roll_again = input(\"Roll the Dice again?\\n\")\n",
        "\n"
      ],
      "metadata": {
        "colab": {
          "base_uri": "https://localhost:8080/"
        },
        "id": "5IqD3CX7A6m-",
        "outputId": "565a30ef-5cd2-4bfc-e58a-e2646affa5e1"
      },
      "execution_count": 22,
      "outputs": [
        {
          "name": "stdout",
          "output_type": "stream",
          "text": [
            "Rolling the Dice\n",
            "The values are:\n",
            "3\n",
            "Roll the Dice again?\n",
            "yes\n",
            "Rolling the Dice\n",
            "The values are:\n",
            "1\n",
            "Roll the Dice again?\n",
            "y\n",
            "Rolling the Dice\n",
            "The values are:\n",
            "4\n",
            "Roll the Dice again?\n",
            "Yes\n",
            "Rolling the Dice\n",
            "The values are:\n",
            "5\n",
            "Roll the Dice again?\n",
            "YES\n"
          ]
        }
      ]
    },
    {
      "cell_type": "code",
      "source": [
        ""
      ],
      "metadata": {
        "id": "iBkbnrR9BruK"
      },
      "execution_count": 3,
      "outputs": []
    },
    {
      "cell_type": "code",
      "source": [
        ""
      ],
      "metadata": {
        "id": "rDPvC9-zBryP"
      },
      "execution_count": 3,
      "outputs": []
    },
    {
      "cell_type": "code",
      "source": [
        ""
      ],
      "metadata": {
        "id": "Q4g6tvbJBr2L"
      },
      "execution_count": 3,
      "outputs": []
    },
    {
      "cell_type": "code",
      "source": [
        ""
      ],
      "metadata": {
        "id": "h-1IxXKyBr5s"
      },
      "execution_count": 3,
      "outputs": []
    },
    {
      "cell_type": "code",
      "source": [
        ""
      ],
      "metadata": {
        "id": "IALv3bs7Br9c"
      },
      "execution_count": null,
      "outputs": []
    }
  ]
}